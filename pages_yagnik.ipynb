{
  "cells": [
    {
      "cell_type": "code",
      "execution_count": null,
      "metadata": {
        "id": "oEl5GThSoa1e"
      },
      "outputs": [],
      "source": [
        "import requests\n",
        "from bs4 import BeautifulSoup\n",
        "import time\n",
        "import math"
      ]
    },
    {
      "cell_type": "code",
      "execution_count": null,
      "metadata": {
        "colab": {
          "base_uri": "https://localhost:8080/"
        },
        "id": "s05iickan01v",
        "outputId": "2e0367e1-33b7-4ad0-a590-ddf905322793"
      },
      "outputs": [
        {
          "name": "stdout",
          "output_type": "stream",
          "text": [
            "Page: 60\n",
            "Page: 61\n"
          ]
        }
      ],
      "source": [
        "\n",
        "with open(r'pagesscraped.txt', 'w', encoding=\"utf-8\") as fp:\n",
        "    for i in range(60,80):\n",
        "        links_temp = set()\n",
        "        rep = requests.get(\n",
        "            url='https://proxy.scrapeops.io/v1/',\n",
        "            params={\n",
        "                'api_key': 'API-KEY',\n",
        "                'url': 'https://www.zillow.com/austin-tx/2_p/',\n",
        "                'scroll': 10000,\n",
        "                'bypass': 'perimeterx',\n",
        "                # 'optimize_request': 'true'\n",
        "            }\n",
        "        )\n",
        "        soup = BeautifulSoup(rep.text, 'html.parser')\n",
        "\n",
        "        for a in (soup.find_all(\"a\", href=re.compile(\"_zpid\"))):\n",
        "            links_temp.add(a[\"href\"])\n",
        "            fp.write(\"%s\\n\" % a[\"href\"])\n",
        "\n",
        "        print(f'Page: {i}, Links: {len(links_temp)}')"
      ]
    },
    {
      "cell_type": "code",
      "execution_count": null,
      "metadata": {
        "id": "KwOODutAqa-A"
      },
      "outputs": [],
      "source": []
    }
  ],
  "metadata": {
    "colab": {
      "provenance": []
    },
    "kernelspec": {
      "display_name": "Python 3",
      "name": "python3"
    },
    "language_info": {
      "name": "python"
    }
  },
  "nbformat": 4,
  "nbformat_minor": 0
}
